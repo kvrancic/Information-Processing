{
  "nbformat": 4,
  "nbformat_minor": 0,
  "metadata": {
    "colab": {
      "name": "FirstLabExercise.ipynb",
      "provenance": [],
      "collapsed_sections": []
    },
    "kernelspec": {
      "name": "python3",
      "display_name": "Python 3"
    }
  },
  "cells": [
    {
      "cell_type": "markdown",
      "metadata": {
        "id": "YJnM4Rk3neJT"
      },
      "source": [
        "**Information Processing**: First Laboratory Exercise"
      ]
    },
    {
      "cell_type": "markdown",
      "metadata": {
        "id": "Tb8HKJbHoCko"
      },
      "source": [
        "Rivers are of great economic importance, from thermal power plants and nuclear power plants that need rivers to operate, public water supply to agriculture and transport. Although people today largely manage watercourses, weather conditions can lead to flooding, soil erosion and similar natural disasters. In order to be able to prepare for potential problems, it is necessary to investigate the behavior of the river based on multi-year monitoring of water levels. In this laboratory exercise, you will analyze the water levels of the Sava River over a period of 25 years.\n",
        "\n",
        "Within the compressed directory with this notebook, a .mat file with data on the water level of the Sava River in the period from January 1st, 1982, to December 31st, 2007, is located. Each data row indicates one day of water level measurement.\n",
        "\n",
        "The exercise is conducted in Python/Google Colab, and all the commands needed to conduct the exercise are given in the lecture. This laboratory exercise brings 3 points. \n",
        "\n",
        "When you are done with the exercise, place a .pdf report (you can generate a .pdf report with the command File-Print-Location: PDF) on your *Moodle*."
      ]
    },
    {
      "cell_type": "markdown",
      "metadata": {
        "id": "LhKyQ6M-pBAP"
      },
      "source": [
        "**1.** Import libraries: NumPy, matplotlib.pyplot, scipy.fft, signal from scipy, and pywt."
      ]
    },
    {
      "cell_type": "code",
      "metadata": {
        "id": "T1w22LgVpFz4"
      },
      "source": [
        "# Place for your code."
      ],
      "execution_count": null,
      "outputs": []
    },
    {
      "cell_type": "markdown",
      "metadata": {
        "id": "7zP4_g6QpPaM"
      },
      "source": [
        "**2.** Load water level information from the .mat file from the compressed directory. Loaded data are saved in dictionary. Extract the key and the corresponding water level data and reduce the dimension if necessary.\n",
        "\n",
        "Tip: Import the .mat file from your Google Drive (place the .mat file within the Colab Notebooks folder on your Google Drive). Other tips can be found in the following code section."
      ]
    },
    {
      "cell_type": "code",
      "metadata": {
        "id": "oi9P4ulnpjdr"
      },
      "source": [
        "# Place for your code. \n",
        "\n",
        "from google.colab import drive\n",
        "drive.mount('/content/drive')\n",
        "\n",
        "#After running this code section, a link will appear in the window below. Click on the link, sign in with your Google account, and you will\n",
        "#get the code. You need to copy the code and paste it into the output below this window (in the \"Enter your authorization code: \" window). \n",
        "#After entering the received code, the message \"Mounted at /content/drive\" will appear.\n",
        "#If you have the file \"OIkobas.mat\" saved in such a Colab Notebook directory, you can access it with the following lines of code:\n",
        "#from scipy import io\n",
        "#kobas_iz_matlaba=io.loadmat(\"drive/My Drive/Colab Notebooks/OIkobas.mat\")\n",
        "#print(kobas_iz_matlaba)"
      ],
      "execution_count": null,
      "outputs": []
    },
    {
      "cell_type": "markdown",
      "metadata": {
        "id": "Qa3DU5t-qNv-"
      },
      "source": [
        "**3.**\tPrint: number of days for which water level data are available, mean water level, standard deviation, minimum value, maximum value, and median."
      ]
    },
    {
      "cell_type": "code",
      "metadata": {
        "id": "GfPK3c7WqSwv"
      },
      "source": [
        "# Place for your code."
      ],
      "execution_count": null,
      "outputs": []
    },
    {
      "cell_type": "markdown",
      "metadata": {
        "id": "Q7x-ec1AqUOv"
      },
      "source": [
        "**4.**\tPlot the water level. Mark the x and y axes and the title of the figure."
      ]
    },
    {
      "cell_type": "code",
      "metadata": {
        "id": "652oC2E8qWF3"
      },
      "source": [
        "# Place for your code."
      ],
      "execution_count": null,
      "outputs": []
    },
    {
      "cell_type": "markdown",
      "metadata": {
        "id": "ymkAEJWOqX5v"
      },
      "source": [
        "**5.**\tCalculate the discrete Fourier transform of a given water level. Print the obtained values. Plot the absolute value of the obtained coefficients."
      ]
    },
    {
      "cell_type": "code",
      "metadata": {
        "id": "a_Cg9--oqbZw"
      },
      "source": [
        "# Place for your code."
      ],
      "execution_count": null,
      "outputs": []
    },
    {
      "cell_type": "markdown",
      "metadata": {
        "id": "sEEB8p0Hqb6X"
      },
      "source": [
        "**6.**\tCalculate the Short time Fourier transform of a given water level using a rectangular window, 2 years wide. Show the result using pcolormesh. Answer: what frequencies are visible in the water level? What years do they occur?"
      ]
    },
    {
      "cell_type": "code",
      "metadata": {
        "id": "8WxKGNMLqeyB"
      },
      "source": [
        "# Place for your code."
      ],
      "execution_count": null,
      "outputs": []
    },
    {
      "cell_type": "markdown",
      "metadata": {
        "id": "pMNUcOKTqfBO"
      },
      "source": [
        "ANSWER: *Answer here to questions from Task 6.*\n",
        "\n"
      ]
    },
    {
      "cell_type": "markdown",
      "metadata": {
        "id": "FwBJktXnqrug"
      },
      "source": [
        "**7.**\tUse a different window (of your choice) and repeat the previous task. Print the width of the used window. Explain the differences in the obtained figures."
      ]
    },
    {
      "cell_type": "code",
      "metadata": {
        "id": "1VDBXsyjquz3"
      },
      "source": [
        "# Place for your code."
      ],
      "execution_count": null,
      "outputs": []
    },
    {
      "cell_type": "markdown",
      "metadata": {
        "id": "j0bsO0cFqvSX"
      },
      "source": [
        "ANSWER: *Answer here to question from Task 7.*"
      ]
    },
    {
      "cell_type": "markdown",
      "metadata": {
        "id": "KKPZWL-dq3on"
      },
      "source": [
        "**8.**\tList all continuous wavelet families in the PyWavelets library. In the same figure, using the subplot, plot two wavelet functions of your choice. Write which wavelet is shown in the title of each subplot."
      ]
    },
    {
      "cell_type": "code",
      "metadata": {
        "id": "8mvtwvQkq_Jn"
      },
      "source": [
        "# Place for your code."
      ],
      "execution_count": null,
      "outputs": []
    },
    {
      "cell_type": "markdown",
      "metadata": {
        "id": "Lbv1XkSQq_VH"
      },
      "source": [
        "**9.**\tUsing a Morlet wavelet, determine the continuous wavelet transformation of a given water level. Plot the absolute value of the obtained coefficients. Answer: what frequencies are visible in the water level? What years do they occur?"
      ]
    },
    {
      "cell_type": "code",
      "metadata": {
        "id": "WrixlEVErB1v"
      },
      "source": [
        "# Place for your code."
      ],
      "execution_count": null,
      "outputs": []
    },
    {
      "cell_type": "markdown",
      "metadata": {
        "id": "S9a0cjYlrB-R"
      },
      "source": [
        "ANSWER: *Answer here to questions from Task 9.*"
      ]
    },
    {
      "cell_type": "markdown",
      "metadata": {
        "id": "4hdznDnXrD6Q"
      },
      "source": [
        "**10.**\tAnswer: explain the difference in the obtained STFT and CWT results."
      ]
    },
    {
      "cell_type": "markdown",
      "metadata": {
        "id": "8g4BXOblrGrI"
      },
      "source": [
        "ANSWER: *Answer here to questions from Task 10.*"
      ]
    }
  ]
}